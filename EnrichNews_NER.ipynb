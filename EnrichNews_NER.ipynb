{
  "nbformat": 4,
  "nbformat_minor": 0,
  "metadata": {
    "colab": {
      "name": "EnrichNews_NER.ipynb",
      "provenance": [],
      "collapsed_sections": [],
      "authorship_tag": "ABX9TyPkuteM1c2cIiYWx7gS1Czq",
      "include_colab_link": true
    },
    "kernelspec": {
      "name": "python3",
      "display_name": "Python 3"
    }
  },
  "cells": [
    {
      "cell_type": "markdown",
      "metadata": {
        "id": "view-in-github",
        "colab_type": "text"
      },
      "source": [
        "<a href=\"https://colab.research.google.com/github/spps-supalerk/NLP_EnrichNews_NER/blob/main/EnrichNews_NER.ipynb\" target=\"_parent\"><img src=\"https://colab.research.google.com/assets/colab-badge.svg\" alt=\"Open In Colab\"/></a>"
      ]
    },
    {
      "cell_type": "code",
      "metadata": {
        "colab": {
          "base_uri": "https://localhost:8080/"
        },
        "id": "Nc7NqLWLplKo",
        "outputId": "49b7a147-3d90-400c-e8b6-579ef644abae"
      },
      "source": [
        "!pip install pythainlp"
      ],
      "execution_count": 1,
      "outputs": [
        {
          "output_type": "stream",
          "text": [
            "Requirement already satisfied: pythainlp in /usr/local/lib/python3.6/dist-packages (2.2.6)\n",
            "Requirement already satisfied: requests>=2.22.0 in /usr/local/lib/python3.6/dist-packages (from pythainlp) (2.23.0)\n",
            "Requirement already satisfied: tinydb>=3.0 in /usr/local/lib/python3.6/dist-packages (from pythainlp) (4.3.0)\n",
            "Requirement already satisfied: python-crfsuite>=0.9.6 in /usr/local/lib/python3.6/dist-packages (from pythainlp) (0.9.7)\n",
            "Requirement already satisfied: idna<3,>=2.5 in /usr/local/lib/python3.6/dist-packages (from requests>=2.22.0->pythainlp) (2.10)\n",
            "Requirement already satisfied: urllib3!=1.25.0,!=1.25.1,<1.26,>=1.21.1 in /usr/local/lib/python3.6/dist-packages (from requests>=2.22.0->pythainlp) (1.24.3)\n",
            "Requirement already satisfied: certifi>=2017.4.17 in /usr/local/lib/python3.6/dist-packages (from requests>=2.22.0->pythainlp) (2020.12.5)\n",
            "Requirement already satisfied: chardet<4,>=3.0.2 in /usr/local/lib/python3.6/dist-packages (from requests>=2.22.0->pythainlp) (3.0.4)\n"
          ],
          "name": "stdout"
        }
      ]
    },
    {
      "cell_type": "markdown",
      "metadata": {
        "id": "9EBiyRFxprLU"
      },
      "source": [
        "# Import Library"
      ]
    },
    {
      "cell_type": "code",
      "metadata": {
        "id": "m3j5lVcippyS"
      },
      "source": [
        "from pythainlp.tag.named_entity import ThaiNameTagger\n",
        "from pythainlp.corpus import thai_stopwords\n",
        "stopwords = thai_stopwords()"
      ],
      "execution_count": 2,
      "outputs": []
    },
    {
      "cell_type": "code",
      "metadata": {
        "id": "GgVyfb6LpuRB"
      },
      "source": [
        "news = '''เอ๋ ปารีณา\" สุดทน ขึ้นโรงพักแจ้งจับ \"เพนกวิน\" ผิด พ.ร.บ.คอมฯ เต้าข่าวแกนนำม็อบจะถูกฆ่า \n",
        "ใส่ร้ายเป็นฝีมือผู้บัญชาการทหารมหาดเล็กราชวัลลภรักษาพระองค์ ลั่นที่ต้องทำเพราะ สุดทน พร้อมติดแฮชแท็ก #หยุดใส่ร้ายผู้อื่นได้ไหมคะ\n",
        "เมื่อวันที่ 6 ธันวาคม 2563 น.ส.ปารีณา ไกรคุปต์ ส.ส.ราชบุรี พรรคพลังประชารัฐ ได้โพสต์ภาพและข้อความผ่านเฟซบุ๊กส่วนตัว ระบุว่า \n",
        "\"พรุ่งนี้ ปารีณา ยื่นหนังสือร้องป.ป.ช. #บ้านพักทหาร #ปารีณาฟันกรรมาธิการรับเรื่องที่ศาลวินิจฉัยแล้วมาพิจารณาอีก #ไม่จบเจอ เอ๋ วันนี้ \n",
        "แจ้งความน้องเพนกวิน ข้อหา พ.ร.บ.คอมฯ เต้าเรื่อง แกนนำจะถูกฆ่าในวันที่ 6 ธ.ค. นี้ พร้อมใส่ร้ายทหารในพระองค์เป็นผู้ฆ่า (ฆ่าโดยผู้บัญชาการทหารมหาดเล็กราชวัลลภรักษาพระองค์) \n",
        "ปารีณาสุดทน จำเป็นต้องแจ้งความน้องนะคะ #หยุดใส่ร้ายผู้อื่นได้ไหมคะ\n",
        "'''"
      ],
      "execution_count": 3,
      "outputs": []
    },
    {
      "cell_type": "code",
      "metadata": {
        "colab": {
          "base_uri": "https://localhost:8080/"
        },
        "id": "mXUd0OVspwCp",
        "outputId": "9697a25b-83db-4eb6-d25c-8e9efeb908e9"
      },
      "source": [
        "ner = ThaiNameTagger()\n",
        "ner_lst = ner.get_ner(news)\n",
        "ner_lst[:5]"
      ],
      "execution_count": 4,
      "outputs": [
        {
          "output_type": "execute_result",
          "data": {
            "text/plain": [
              "[('เอ๋', 'NOUN', 'B-PERSON'),\n",
              " (' ', 'PUNCT', 'I-PERSON'),\n",
              " ('ปา', 'NOUN', 'I-PERSON'),\n",
              " ('รี', 'NOUN', 'I-PERSON'),\n",
              " ('ณา\"', 'NOUN', 'I-PERSON')]"
            ]
          },
          "metadata": {
            "tags": []
          },
          "execution_count": 4
        }
      ]
    },
    {
      "cell_type": "code",
      "metadata": {
        "id": "wuA-qOTxpwVV"
      },
      "source": [
        "# add words you want to remove from ner_lst\n",
        "clean_word = ['น.ส.']"
      ],
      "execution_count": 5,
      "outputs": []
    },
    {
      "cell_type": "code",
      "metadata": {
        "colab": {
          "base_uri": "https://localhost:8080/"
        },
        "id": "YNjr1AhKp0QK",
        "outputId": "46db8071-5d19-4b42-d036-768370e396fb"
      },
      "source": [
        "# remove stopwords \n",
        "ner_lst = [i for i in ner_lst if i[0] not in stopwords]\n",
        "ner_lst = [i for i in ner_lst if i[0] not in clean_word]\n",
        "ner_lst = [i for i in ner_lst if len(i[0].strip())>=2]\n",
        "ner_lst[:5]"
      ],
      "execution_count": 6,
      "outputs": [
        {
          "output_type": "execute_result",
          "data": {
            "text/plain": [
              "[('เอ๋', 'NOUN', 'B-PERSON'),\n",
              " ('ปา', 'NOUN', 'I-PERSON'),\n",
              " ('รี', 'NOUN', 'I-PERSON'),\n",
              " ('ณา\"', 'NOUN', 'I-PERSON'),\n",
              " ('ทน', 'ADJ', 'O')]"
            ]
          },
          "metadata": {
            "tags": []
          },
          "execution_count": 6
        }
      ]
    },
    {
      "cell_type": "code",
      "metadata": {
        "id": "pIWZZQnMNY94"
      },
      "source": [
        "#combine person\r\n",
        "ner_lst_concat = []\r\n",
        "for idx, w in enumerate(ner_lst):\r\n",
        "  if 'B-PERSON' in w[2]:\r\n",
        "    concat_word = w[0]\r\n",
        "    pos = w[1]\r\n",
        "    tag = w[2].split('-')[-1]\r\n",
        "    length = 1\r\n",
        "  elif 'I-PERSON' in w[2]:\r\n",
        "    concat_word += w[0]\r\n",
        "    pos = w[1]\r\n",
        "    tag = w[2].split('-')[-1]\r\n",
        "    length += 1\r\n",
        "  else:\r\n",
        "    if length > 1 :\r\n",
        "      ner_lst_concat.append((concat_word, pos, tag))\r\n",
        "      length = 0\r\n",
        "    else:\r\n",
        "      ner_lst_concat.append(w)\r\n"
      ],
      "execution_count": 7,
      "outputs": []
    },
    {
      "cell_type": "code",
      "metadata": {
        "colab": {
          "base_uri": "https://localhost:8080/"
        },
        "id": "ct_mDWF6gbLp",
        "outputId": "5d161675-184a-4774-a90a-cfe4115e2d5d"
      },
      "source": [
        "ner_lst_concat"
      ],
      "execution_count": 8,
      "outputs": [
        {
          "output_type": "execute_result",
          "data": {
            "text/plain": [
              "[('เอ๋ปารีณา\"', 'NOUN', 'PERSON'),\n",
              " ('โรงพัก', 'NOUN', 'O'),\n",
              " ('แจ้ง', 'NOUN', 'O'),\n",
              " ('เพนกวิน', 'NOUN', 'O'),\n",
              " ('พ.ร.บ.', 'NOUN', 'B-LAW'),\n",
              " ('คอมฯ', 'NOUN', 'I-LAW'),\n",
              " ('เต้า', 'NOUN', 'O'),\n",
              " ('ข่าว', 'NOUN', 'O'),\n",
              " ('แกนนำ', 'NOUN', 'O'),\n",
              " ('ม็อบ', 'NOUN', 'O'),\n",
              " ('ฆ่า', 'VERB', 'O'),\n",
              " ('ใส่ร้าย', 'DET', 'O'),\n",
              " ('ฝีมือ', 'NOUN', 'O'),\n",
              " ('ผู้บัญชา', 'NOUN', 'O'),\n",
              " ('การทหาร', 'NOUN', 'O'),\n",
              " ('มหาดเล็ก', 'NOUN', 'B-ORGANIZATION'),\n",
              " ('ราช', 'NOUN', 'I-ORGANIZATION'),\n",
              " ('วัลลภ', 'NOUN', 'I-ORGANIZATION'),\n",
              " ('รักษา', 'VERB', 'I-ORGANIZATION'),\n",
              " ('พระองค์', 'NOUN', 'I-ORGANIZATION'),\n",
              " ('ลั่น', 'NOUN', 'O'),\n",
              " ('ทำ', 'VERB', 'O'),\n",
              " ('ทน', 'ADJ', 'O'),\n",
              " ('ติด', 'NOUN', 'O'),\n",
              " ('แฮ', 'NOUN', 'O'),\n",
              " ('แท็ก', 'NOUN', 'O'),\n",
              " ('หยุด', 'VERB', 'O'),\n",
              " ('ใส่ร้าย', 'VERB', 'O'),\n",
              " ('ผู้อื่น', 'NOUN', 'O'),\n",
              " ('ไหม', 'NOUN', 'O'),\n",
              " ('วันที่', 'NOUN', 'O'),\n",
              " ('ธันวาคม', 'NOUN', 'I-DATE'),\n",
              " ('2563', 'NUM', 'I-DATE'),\n",
              " ('เอ๋ปารีณา\"ปารีณาไกรคุปต์', 'NOUN', 'PERSON'),\n",
              " ('ราชบุรี', 'NOUN', 'B-LOCATION'),\n",
              " ('พรรคพลังประชารัฐ', 'NOUN', 'O'),\n",
              " ('โพสต์', 'VERB', 'O'),\n",
              " ('ภาพ', 'NOUN', 'O'),\n",
              " ('ข้อความ', 'NOUN', 'O'),\n",
              " ('เฟซบุ๊ก', 'NOUN', 'O'),\n",
              " ('ส่วนตัว', 'ADJ', 'O'),\n",
              " ('ระบุ', 'VERB', 'O'),\n",
              " ('พรุ่งนี้', 'NOUN', 'B-DATE'),\n",
              " ('ปา', 'NOUN', 'O'),\n",
              " ('รี', 'NOUN', 'O'),\n",
              " ('ณา', 'NOUN', 'O'),\n",
              " ('ยื่น', 'NOUN', 'O'),\n",
              " ('หนังสือ', 'NOUN', 'O'),\n",
              " ('ร้อง', 'NOUN', 'O'),\n",
              " ('ป.ป.ช.', 'NOUN', 'B-ORGANIZATION'),\n",
              " ('บ้านพัก', 'NOUN', 'O'),\n",
              " ('ทหาร', 'NOUN', 'O'),\n",
              " ('ปา', 'NOUN', 'O'),\n",
              " ('รี', 'NOUN', 'O'),\n",
              " ('ณา', 'NOUN', 'O'),\n",
              " ('ฟัน', 'NOUN', 'O'),\n",
              " ('กรรมาธิการ', 'NOUN', 'O'),\n",
              " ('เรื่อง', 'NOUN', 'O'),\n",
              " ('ศาล', 'PROPN', 'O'),\n",
              " ('วินิจฉัย', 'VERB', 'O'),\n",
              " ('พิจารณา', 'VERB', 'O'),\n",
              " ('จบ', 'VERB', 'O'),\n",
              " ('เจอ', 'NOUN', 'O'),\n",
              " ('เอ๋', 'NOUN', 'O'),\n",
              " ('แจ้งความ', 'NOUN', 'O'),\n",
              " ('น้องเพนกวิน', 'PROPN', 'PERSON'),\n",
              " ('พ.ร.บ.', 'NOUN', 'B-LAW'),\n",
              " ('คอมฯ', 'NOUN', 'I-LAW'),\n",
              " ('เต้า', 'NOUN', 'O'),\n",
              " ('เรื่อง', 'NOUN', 'O'),\n",
              " ('แกนนำ', 'NOUN', 'O'),\n",
              " ('ฆ่า', 'VERB', 'O'),\n",
              " ('วันที่', 'NOUN', 'O'),\n",
              " ('ธ.ค.', 'NOUN', 'I-DATE'),\n",
              " ('ใส่ร้าย', 'ADP', 'O'),\n",
              " ('ทหาร', 'NOUN', 'O'),\n",
              " ('พระองค์', 'NOUN', 'O'),\n",
              " ('ผู้ฆ่า', 'NOUN', 'O'),\n",
              " ('ฆ่า', 'NOUN', 'O'),\n",
              " ('ผู้บัญชา', 'NOUN', 'O'),\n",
              " ('การทหาร', 'NOUN', 'O'),\n",
              " ('มหาดเล็ก', 'NOUN', 'B-ORGANIZATION'),\n",
              " ('ราช', 'NOUN', 'I-ORGANIZATION'),\n",
              " ('วัลลภ', 'NOUN', 'I-ORGANIZATION'),\n",
              " ('รักษา', 'VERB', 'I-ORGANIZATION'),\n",
              " ('พระองค์', 'NOUN', 'I-ORGANIZATION'),\n",
              " ('น้องเพนกวินปารีณาทนจำเป็นต้องแจ้งความน้องนะคะ', 'NOUN', 'PERSON'),\n",
              " ('ใส่ร้าย', 'VERB', 'O'),\n",
              " ('ผู้อื่น', 'NOUN', 'O'),\n",
              " ('ไหม', 'NOUN', 'O')]"
            ]
          },
          "metadata": {
            "tags": []
          },
          "execution_count": 8
        }
      ]
    },
    {
      "cell_type": "code",
      "metadata": {
        "colab": {
          "base_uri": "https://localhost:8080/"
        },
        "id": "AyFt3UrpqAfc",
        "outputId": "acc1c06a-9dcf-4a71-f198-f82f47e6f094"
      },
      "source": [
        "# get verb location\n",
        "verb_loc = [ i for i in range(len(ner_lst_concat)) if ner_lst_concat[i][1]=='VERB']\n",
        "print(f'Total number of VERB in news : {len(verb_loc)}')\n",
        "print(verb_loc)"
      ],
      "execution_count": 9,
      "outputs": [
        {
          "output_type": "stream",
          "text": [
            "Total number of VERB in news : 13\n",
            "[10, 18, 21, 26, 27, 36, 41, 59, 60, 61, 71, 84, 87]\n"
          ],
          "name": "stdout"
        }
      ]
    },
    {
      "cell_type": "code",
      "metadata": {
        "colab": {
          "base_uri": "https://localhost:8080/"
        },
        "id": "FsyDq04uqEZv",
        "outputId": "879ac8e8-e548-4321-e92e-f16d6253a020"
      },
      "source": [
        "for idx in verb_loc:\n",
        "  zip_word_tag_before = ner_lst_concat[:idx][::-1]\n",
        "  zip_word_tag_after = ner_lst_concat[idx:]\n",
        "\n",
        "  # get verb\n",
        "  verb = ner_lst_concat[idx][0]\n",
        "\n",
        "  # find person before verb\n",
        "  person_bf = ''\n",
        "  for perbf in zip_word_tag_before:\n",
        "    if 'PERSON' in perbf[2]:\n",
        "      person_bf = perbf[0]\n",
        "      break\n",
        "\n",
        "  # find noun after verb\n",
        "  noun_af = ''\n",
        "  for naf in zip_word_tag_after:\n",
        "    if naf[2] == 'O' and naf[1]=='NOUN':\n",
        "      noun_af = naf[0]\n",
        "      break\n",
        "\n",
        "  print(f'------ index : {idx} ---------\\n')\n",
        "  print(f'{person_bf} - {verb} - {noun_af} \\n')"
      ],
      "execution_count": 10,
      "outputs": [
        {
          "output_type": "stream",
          "text": [
            "------ index : 10 ---------\n",
            "\n",
            "เอ๋ปารีณา\" - ฆ่า - ฝีมือ \n",
            "\n",
            "------ index : 18 ---------\n",
            "\n",
            "เอ๋ปารีณา\" - รักษา - ลั่น \n",
            "\n",
            "------ index : 21 ---------\n",
            "\n",
            "เอ๋ปารีณา\" - ทำ - ติด \n",
            "\n",
            "------ index : 26 ---------\n",
            "\n",
            "เอ๋ปารีณา\" - หยุด - ผู้อื่น \n",
            "\n",
            "------ index : 27 ---------\n",
            "\n",
            "เอ๋ปารีณา\" - ใส่ร้าย - ผู้อื่น \n",
            "\n",
            "------ index : 36 ---------\n",
            "\n",
            "เอ๋ปารีณา\"ปารีณาไกรคุปต์ - โพสต์ - ภาพ \n",
            "\n",
            "------ index : 41 ---------\n",
            "\n",
            "เอ๋ปารีณา\"ปารีณาไกรคุปต์ - ระบุ - ปา \n",
            "\n",
            "------ index : 59 ---------\n",
            "\n",
            "เอ๋ปารีณา\"ปารีณาไกรคุปต์ - วินิจฉัย - เจอ \n",
            "\n",
            "------ index : 60 ---------\n",
            "\n",
            "เอ๋ปารีณา\"ปารีณาไกรคุปต์ - พิจารณา - เจอ \n",
            "\n",
            "------ index : 61 ---------\n",
            "\n",
            "เอ๋ปารีณา\"ปารีณาไกรคุปต์ - จบ - เจอ \n",
            "\n",
            "------ index : 71 ---------\n",
            "\n",
            "น้องเพนกวิน - ฆ่า - วันที่ \n",
            "\n",
            "------ index : 84 ---------\n",
            "\n",
            "น้องเพนกวิน - รักษา - ผู้อื่น \n",
            "\n",
            "------ index : 87 ---------\n",
            "\n",
            "น้องเพนกวินปารีณาทนจำเป็นต้องแจ้งความน้องนะคะ - ใส่ร้าย - ผู้อื่น \n",
            "\n"
          ],
          "name": "stdout"
        }
      ]
    },
    {
      "cell_type": "code",
      "metadata": {
        "id": "kEAwd1uAqGgl"
      },
      "source": [
        ""
      ],
      "execution_count": 10,
      "outputs": []
    }
  ]
}